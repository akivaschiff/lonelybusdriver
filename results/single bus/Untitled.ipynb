{
 "cells": [
  {
   "cell_type": "code",
   "execution_count": 10,
   "metadata": {
    "collapsed": false
   },
   "outputs": [],
   "source": [
    "import pandas\n",
    "import matplotlib\n",
    "%matplotlib inline\n",
    "\n",
    "aStarRes = {1: (0.0, 0, 1), 2: (0.0, 38, 2), 3: (0.0, 143, 6), 4: (0.03099989891052246, 129, 74), 5: (0.015000104904174805, 155, 63), 6: (0.25, 131, 468), 7: (2.5420000553131104, 194, 3216), 8: (13.361999988555908, 225, 12659), 9: (161.4649999141693, 235, 114243)}\n"
   ]
  },
  {
   "cell_type": "code",
   "execution_count": 7,
   "metadata": {
    "collapsed": false,
    "scrolled": true
   },
   "outputs": [
    {
     "data": {
      "text/plain": [
       "<matplotlib.axes._subplots.AxesSubplot at 0xa820c88>"
      ]
     },
     "execution_count": 7,
     "metadata": {},
     "output_type": "execute_result"
    },
    {
     "data": {
      "image/png": "[encoded data removed]",
      "text/plain": [
       "<matplotlib.figure.Figure at 0xa820b00>"
      ]
     },
     "metadata": {},
     "output_type": "display_data"
    }
   ],
   "source": [
    "aStarExp = pandas.Series(index=aStarRes.keys(), data=[aStarRes[k][2] for k in aStarRes.keys()])\n",
    "aStarExp.plot()"
   ]
  },
  {
   "cell_type": "code",
   "execution_count": 14,
   "metadata": {
    "collapsed": false
   },
   "outputs": [
    {
     "data": {
      "text/plain": [
       "{1: (0.0, 0, 1),\n",
       " 2: (0.0, 38, 2),\n",
       " 3: (0.0, 143, 6),\n",
       " 4: (0.03099989891052246, 129, 74),\n",
       " 5: (0.015000104904174805, 155, 63),\n",
       " 6: (0.25, 131, 468),\n",
       " 7: (2.5420000553131104, 194, 3216),\n",
       " 8: (13.361999988555908, 225, 12659),\n",
       " 9: (161.4649999141693, 235, 114243)}"
      ]
     },
     "execution_count": 14,
     "metadata": {},
     "output_type": "execute_result"
    }
   ],
   "source": [
    "aStarRes"
   ]
  },
  {
   "cell_type": "code",
   "execution_count": 13,
   "metadata": {
    "collapsed": false
   },
   "outputs": [
    {
     "data": {
      "image/png": "[encoded data removed]",
      "text/plain": [
       "<matplotlib.figure.Figure at 0xbf04eb8>"
      ]
     },
     "metadata": {},
     "output_type": "display_data"
    }
   ],
   "source": [
    "\n",
    "\n",
    "nameToObject = {\n",
    "    'BFS' : None,\n",
    "    'A*' : aStarRes\n",
    "}\n",
    "\n",
    "def plotNames(names, index=2):\n",
    "    plots = []\n",
    "    for n in names:\n",
    "        ob = nameToObject[n]\n",
    "        nodes = ob.keys()\n",
    "        exp = [ob[k][index] for k in nodes]\n",
    "        x, = matplotlib.pyplot.plot(nodes, exp, label=n)\n",
    "        plots.append(x)\n",
    "    matplotlib.pyplot.legend(handles=plots)\n",
    "    matplotlib.pyplot.show()\n",
    "    \n",
    "plotNames(['A*'], 1)"
   ]
  }
 ],
 "metadata": {
  "kernelspec": {
   "display_name": "Python 2",
   "language": "python",
   "name": "python2"
  },
  "language_info": {
   "codemirror_mode": {
    "name": "ipython",
    "version": 2
   },
   "file_extension": ".py",
   "mimetype": "text/x-python",
   "name": "python",
   "nbconvert_exporter": "python",
   "pygments_lexer": "ipython2",
   "version": "2.7.10"
  }
 },
 "nbformat": 4,
 "nbformat_minor": 0
}
